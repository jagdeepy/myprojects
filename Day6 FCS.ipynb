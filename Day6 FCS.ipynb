{
 "cells": [
  {
   "cell_type": "code",
   "execution_count": 13,
   "metadata": {},
   "outputs": [
    {
     "name": "stdout",
     "output_type": "stream",
     "text": [
      "Enter number of times you want to check holes :-3\n",
      "Please enter the alphabet in capital :-JAGDEEP\n",
      "3\n",
      "Please enter the alphabet in capital :-YADAV\n",
      "3\n",
      "Please enter the alphabet in capital :-SINGH\n",
      "0\n"
     ]
    }
   ],
   "source": [
    "#Day 6 -> Assignment-6\n",
    "#Q.1 WAP to count holes from alphabet  \n",
    "def main(caps_letter):\n",
    "    ans = 0\n",
    "    for char in caps_letter:\n",
    "        if char in ['B']:\n",
    "            ans += 2\n",
    "        if char in ['A', 'D', 'O', 'P', 'Q', 'R']:\n",
    "            ans += 1\n",
    "    print(ans)\n",
    "\n",
    "count = int(input('Enter number of times you want to check holes :-'))\n",
    "for x in range(0, count):\n",
    "    caps_letter = input('Please enter the alphabet in capital :-')\n",
    "    main(caps_letter)"
   ]
  },
  {
   "cell_type": "code",
   "execution_count": 14,
   "metadata": {},
   "outputs": [],
   "source": [
    "#Q.2 Creating notebook for map() and lambda() \n",
    "#1 map()-\n",
    "#It applies the given function to all iterables and returns a new list"
   ]
  },
  {
   "cell_type": "markdown",
   "metadata": {},
   "source": [
    "# map()\n"
   ]
  },
  {
   "cell_type": "markdown",
   "metadata": {},
   "source": [
    "#syntax :- \n",
    "map(function, iterables)"
   ]
  },
  {
   "cell_type": "code",
   "execution_count": 15,
   "metadata": {},
   "outputs": [
    {
     "name": "stdout",
     "output_type": "stream",
     "text": [
      "25\n"
     ]
    }
   ],
   "source": [
    "#without using map()\n",
    "def sqr(a):\n",
    "    return a*a\n",
    "x= sqr(5)\n",
    "print(x)"
   ]
  },
  {
   "cell_type": "code",
   "execution_count": 16,
   "metadata": {},
   "outputs": [
    {
     "name": "stdout",
     "output_type": "stream",
     "text": [
      "<map object at 0x00000000053DE0C8>\n",
      "[1, 4, 9, 16]\n"
     ]
    }
   ],
   "source": [
    "#map(function, iterables)\n",
    "def sqr(a):\n",
    "    return a*a\n",
    "#type your code here\n",
    "x = map(sqr ,[1,2,3,4])\n",
    "print(x)\n",
    "print(\"List :-\",list(x))"
   ]
  },
  {
   "cell_type": "code",
   "execution_count": 18,
   "metadata": {},
   "outputs": [
    {
     "name": "stdout",
     "output_type": "stream",
     "text": [
      "<map object at 0x00000000053F0088>\n",
      "Set {16, 1, 4, 9}\n"
     ]
    }
   ],
   "source": [
    "#map(function, iterables)\n",
    "def sqr(a):\n",
    "    return a*a\n",
    "#type your code here\n",
    "x = map(sqr ,[1,2,3,4])\n",
    "print(x)\n",
    "print(\"Set :-\",set(x))"
   ]
  },
  {
   "cell_type": "code",
   "execution_count": 20,
   "metadata": {},
   "outputs": [
    {
     "name": "stdout",
     "output_type": "stream",
     "text": [
      "<map object at 0x00000000053F0BC8>\n",
      "Tuple :- (1, 4, 9, 16)\n"
     ]
    }
   ],
   "source": [
    "#map(function, iterables)\n",
    "def sqr(a):\n",
    "    return a*a\n",
    "#type your code here\n",
    "x = map(sqr ,[1,2,3,4])\n",
    "print(x)\n",
    "print(\"Tuple :-\",tuple(x))"
   ]
  },
  {
   "cell_type": "code",
   "execution_count": 27,
   "metadata": {},
   "outputs": [
    {
     "name": "stdout",
     "output_type": "stream",
     "text": [
      "<map object at 0x00000000053EFD08>\n",
      "<class 'map'>\n",
      "[2, 4, 6, 8]\n"
     ]
    }
   ],
   "source": [
    "def sqr(a,b):\n",
    "    return a*b\n",
    "#type your code here\n",
    "x = map(sqr, [1,2,3,4], [2,2,2,2])\n",
    "print(x)\n",
    "print(type(x))\n",
    "print(list(x))\n",
    "#print(tuple(x))\n",
    "#print(set(x))"
   ]
  },
  {
   "cell_type": "code",
   "execution_count": 23,
   "metadata": {},
   "outputs": [
    {
     "name": "stdout",
     "output_type": "stream",
     "text": [
      "<map object at 0x00000000053F93C8>\n",
      "<class 'map'>\n",
      "[-1, 0, 1, 2]\n"
     ]
    }
   ],
   "source": [
    "def sqr(a,b):\n",
    "    return a-b\n",
    "#type your code here\n",
    "x = map(sqr, [1,2,3,4], [2,2,2,2])\n",
    "print(x)\n",
    "print(type(x))\n",
    "print(list(x))"
   ]
  },
  {
   "cell_type": "code",
   "execution_count": 28,
   "metadata": {},
   "outputs": [
    {
     "name": "stdout",
     "output_type": "stream",
     "text": [
      "[-1, 0, 1, 2]\n"
     ]
    }
   ],
   "source": [
    "def sqr(a,b):\n",
    "    return a-b\n",
    "#type your code here\n",
    "print(list(map(sqr, [1,2,3,4], [2,2,2,2])))"
   ]
  },
  {
   "cell_type": "markdown",
   "metadata": {},
   "source": [
    "# lambda function\n",
    "syntax:-\n",
    "lambda arguments:expression"
   ]
  },
  {
   "cell_type": "code",
   "execution_count": 29,
   "metadata": {},
   "outputs": [
    {
     "data": {
      "text/plain": [
       "9"
      ]
     },
     "execution_count": 29,
     "metadata": {},
     "output_type": "execute_result"
    }
   ],
   "source": [
    "# without lambda\n",
    "def sqr(a):\n",
    "    return a*a\n",
    "\n",
    "sqr(3)"
   ]
  },
  {
   "cell_type": "code",
   "execution_count": 30,
   "metadata": {},
   "outputs": [
    {
     "data": {
      "text/plain": [
       "9"
      ]
     },
     "execution_count": 30,
     "metadata": {},
     "output_type": "execute_result"
    }
   ],
   "source": [
    "#with lambda\n",
    "#type your code here\n",
    "x = lambda a: a*a\n",
    "x(3)"
   ]
  },
  {
   "cell_type": "code",
   "execution_count": 31,
   "metadata": {},
   "outputs": [
    {
     "name": "stdout",
     "output_type": "stream",
     "text": [
      "<function abc.<locals>.<lambda> at 0x00000000053D8288>\n",
      "9\n"
     ]
    }
   ],
   "source": [
    "# lambda within user defined functions\n",
    "def abc(x):\n",
    "    return lambda y: x+y\n",
    "\n",
    "t = abc(4)\n",
    "print(t)\n",
    "print(t(5))\n"
   ]
  },
  {
   "cell_type": "code",
   "execution_count": 35,
   "metadata": {},
   "outputs": [
    {
     "data": {
      "text/plain": [
       "9"
      ]
     },
     "execution_count": 35,
     "metadata": {},
     "output_type": "execute_result"
    }
   ],
   "source": [
    "#Solving Algebraic expression using lambda\n",
    "# linear Equations\n",
    "# Snippet 1:\n",
    "x = lambda a: a*a\n",
    "x(3)"
   ]
  },
  {
   "cell_type": "code",
   "execution_count": null,
   "metadata": {},
   "outputs": [],
   "source": []
  }
 ],
 "metadata": {
  "kernelspec": {
   "display_name": "Python 3",
   "language": "python",
   "name": "python3"
  },
  "language_info": {
   "codemirror_mode": {
    "name": "ipython",
    "version": 3
   },
   "file_extension": ".py",
   "mimetype": "text/x-python",
   "name": "python",
   "nbconvert_exporter": "python",
   "pygments_lexer": "ipython3",
   "version": "3.7.6"
  }
 },
 "nbformat": 4,
 "nbformat_minor": 4
}
