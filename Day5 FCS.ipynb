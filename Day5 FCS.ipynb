{
 "cells": [
  {
   "cell_type": "code",
   "execution_count": 1,
   "metadata": {},
   "outputs": [
    {
     "name": "stdout",
     "output_type": "stream",
     "text": [
      "D\n",
      "a\n",
      "r\n",
      "s\n",
      "h\n",
      "a\n",
      "n\n"
     ]
    }
   ],
   "source": [
    "st =\"Darshan\"\n",
    "for i in st:\n",
    "    print(i)"
   ]
  },
  {
   "cell_type": "code",
   "execution_count": 9,
   "metadata": {},
   "outputs": [
    {
     "name": "stdout",
     "output_type": "stream",
     "text": [
      "Yarshan\n"
     ]
    }
   ],
   "source": [
    "#String are immutable\n",
    "st =\"Darshan\"\n",
    "st=\"Y\"+st[1:]\n",
    "print(st)"
   ]
  },
  {
   "cell_type": "code",
   "execution_count": 28,
   "metadata": {},
   "outputs": [
    {
     "name": "stdout",
     "output_type": "stream",
     "text": [
      "Enter the number : 10\n",
      "Dictonary of  10  is :-  {1: 1, 2: 4, 3: 9, 4: 16, 5: 25, 6: 36, 7: 49, 8: 64, 9: 81, 10: 100}\n"
     ]
    }
   ],
   "source": [
    "#Day 5 Assignment\n",
    "#Dictonary Program\n",
    "#WAP that generstes a dictionary d which contains(i,i*i), where i is from 1 to n\n",
    "a=1;\n",
    "b=int(input('Enter the number : '))\n",
    "d=dict()\n",
    "for x in range(a,b+1):\n",
    "    d[x]=x**2  # here **-- means squaring the (x)i.e number's sqaure\n",
    "print('Dictonary of ',b,' is :- ',d)  "
   ]
  },
  {
   "cell_type": "code",
   "execution_count": 86,
   "metadata": {},
   "outputs": [
    {
     "name": "stdout",
     "output_type": "stream",
     "text": [
      "Enter a number : 50\n",
      "List_1 = [1, 2, 3, 4, 5, 6, 7, 8, 9, 10, 11, 12, 13, 14, 15, 16, 17, 18, 19, 20, 21, 22, 23, 24, 25, 26, 27, 28, 29, 30, 31, 32, 33, 34, 35, 36, 37, 38, 39, 40, 41, 42, 43, 44, 45, 46, 47, 48, 49, 50]\n"
     ]
    }
   ],
   "source": [
    "#Second Question\n",
    "#Create a list of numbers from 1 to 50 named list_1. The numbers should be present in the increasing order.\n",
    "#Given an input of two no's les's say a and b, you have to print the numbers returned by the following command list_1[a:b]\n",
    "n=int(input(\"Enter a number : \"))\n",
    "list_1 = list()\n",
    "\n",
    "for x in range(1,n+1):\n",
    "    list_1.append(x**1)\n",
    "print('List_1 =',list_1) \n"
   ]
  },
  {
   "cell_type": "code",
   "execution_count": 91,
   "metadata": {},
   "outputs": [
    {
     "name": "stdout",
     "output_type": "stream",
     "text": [
      "Enter two numbers :0 50\n",
      "['0', '50']\n",
      "Checking the numbers value and the type of : a = 0 and b = 50 <class 'int'> <class 'int'>\n",
      "List_1=  [1, 2, 3, 4, 5, 6, 7, 8, 9, 10, 11, 12, 13, 14, 15, 16, 17, 18, 19, 20, 21, 22, 23, 24, 25, 26, 27, 28, 29, 30, 31, 32, 33, 34, 35, 36, 37, 38, 39, 40, 41, 42, 43, 44, 45, 46, 47, 48, 49, 50]\n",
      "List_1 = \n",
      "1\n",
      "2\n",
      "3\n",
      "4\n",
      "5\n",
      "6\n",
      "7\n",
      "8\n",
      "9\n",
      "10\n",
      "11\n",
      "12\n",
      "13\n",
      "14\n",
      "15\n",
      "16\n",
      "17\n",
      "18\n",
      "19\n",
      "20\n",
      "21\n",
      "22\n",
      "23\n",
      "24\n",
      "25\n",
      "26\n",
      "27\n",
      "28\n",
      "29\n",
      "30\n",
      "31\n",
      "32\n",
      "33\n",
      "34\n",
      "35\n",
      "36\n",
      "37\n",
      "38\n",
      "39\n",
      "40\n",
      "41\n",
      "42\n",
      "43\n",
      "44\n",
      "45\n",
      "46\n",
      "47\n",
      "48\n",
      "49\n",
      "50\n"
     ]
    }
   ],
   "source": [
    "list_1.clear()\n",
    "num=input('Enter two numbers :').split()   #take two number followed by space\n",
    "print(num)\n",
    "a=int(num[0])\n",
    "b=int(num[1])\n",
    "print('Checking the numbers value and the type of : a =',a,'and b =',b, type(a),type(b))\n",
    "\n",
    "for x in range(a+1,b+1):    \n",
    "    list_1.append(x**1)\n",
    "print('List_1= ',list_1)\n",
    "print('List_1 = ',*list_1, sep=\"\\n\")"
   ]
  },
  {
   "cell_type": "code",
   "execution_count": null,
   "metadata": {},
   "outputs": [],
   "source": []
  }
 ],
 "metadata": {
  "kernelspec": {
   "display_name": "Python 3",
   "language": "python",
   "name": "python3"
  },
  "language_info": {
   "codemirror_mode": {
    "name": "ipython",
    "version": 3
   },
   "file_extension": ".py",
   "mimetype": "text/x-python",
   "name": "python",
   "nbconvert_exporter": "python",
   "pygments_lexer": "ipython3",
   "version": "3.7.6"
  }
 },
 "nbformat": 4,
 "nbformat_minor": 4
}
