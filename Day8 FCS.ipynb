{
 "cells": [
  {
   "cell_type": "markdown",
   "metadata": {},
   "source": [
    "# Day 8 Assignment\n"
   ]
  },
  {
   "cell_type": "code",
   "execution_count": 15,
   "metadata": {},
   "outputs": [
    {
     "name": "stdout",
     "output_type": "stream",
     "text": [
      "Enter the number D made of only digits 1's and 0's : 101\n",
      "YES\n"
     ]
    }
   ],
   "source": [
    "#Q1.You are provided with a number D containing only digits 0's and 1's. Your aim is to convert\n",
    "#this number to have all the digits same.\n",
    "#For that, you will change exactly one digit i.e. from 0 to 1 or from 1 to 0. If it is possible to\n",
    "#make all digits equal (either all 0's or all 1's) by flipping exactly 1 digit then output \"YES\", else\n",
    "#print \"NO\" (quotes for clarity).\n",
    "#Program : \n",
    "num =input(\"Enter the number D made of only digits 1's and 0's : \")\n",
    "zeros = 0\n",
    "for c in num:\n",
    "    if c == '0':\n",
    "        zeros += 1\n",
    "if zeros == 1 or zeros == len(num)-1:\n",
    "    print ('YES')\n",
    "else:\n",
    "    print ('NO')"
   ]
  },
  {
   "cell_type": "code",
   "execution_count": null,
   "metadata": {},
   "outputs": [],
   "source": []
  }
 ],
 "metadata": {
  "kernelspec": {
   "display_name": "Python 3",
   "language": "python",
   "name": "python3"
  },
  "language_info": {
   "codemirror_mode": {
    "name": "ipython",
    "version": 3
   },
   "file_extension": ".py",
   "mimetype": "text/x-python",
   "name": "python",
   "nbconvert_exporter": "python",
   "pygments_lexer": "ipython3",
   "version": "3.7.6"
  }
 },
 "nbformat": 4,
 "nbformat_minor": 4
}
