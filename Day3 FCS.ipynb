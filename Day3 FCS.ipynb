{
 "cells": [
  {
   "cell_type": "code",
   "execution_count": 20,
   "metadata": {},
   "outputs": [
    {
     "name": "stdout",
     "output_type": "stream",
     "text": [
      "81  is a A grade\n"
     ]
    }
   ],
   "source": [
    "#Day3 Assignment\n",
    "#Program 1\n",
    "#WAP for taking one number a input and then using if elif else concept, assign a grade to the input number from A,B,C,D,E,Fail\n",
    "#Code:\n",
    "x=81\n",
    "if  x>=80:\n",
    "    print(x,' is a A grade')\n",
    "elif x>=60 and x<=80:\n",
    "    print(x,' is a B grade')\n",
    "elif x>=40 and x<=60:\n",
    "    print(x,' is a C grade')\n",
    "elif x>=30 and x<=40:\n",
    "    print(x,' is a D grade')\n",
    "elif x>=20 and x<=30:\n",
    "    print(x,' is a E grade')\n",
    "else:\n",
    "    print(x,' is a Fail')"
   ]
  },
  {
   "cell_type": "code",
   "execution_count": 169,
   "metadata": {},
   "outputs": [
    {
     "name": "stdout",
     "output_type": "stream",
     "text": [
      "Team Score is  35\n",
      "Player Guess score is  228\n",
      "Guess score is  228  You do not watch that much! :P\n"
     ]
    }
   ],
   "source": [
    "#Program 2\n",
    "#Guessing Team India score in 20-20 Cricket\n",
    "#First we have to genrate random number between 1 to 250 and store it in varibale.\n",
    "#Apply first rule \n",
    "#Apply Second rule\n",
    "import random\n",
    "a=random.randint(1,250) #random score\n",
    "p=random.randrange(-5 and 450) #Player guess\n",
    "print('Team Score is ',a)\n",
    "print('Player Guess score is ',p)\n",
    "if p<=1 or p>=250:\n",
    "    print('Reduce your expectation for 20-20 Cricket')\n",
    "else:\n",
    "    k=random.randint(1,20)\n",
    "    if(k<=10):\n",
    "        print('Guess score is ',p,' Close By, you are true Indian fan!')\n",
    "    else:\n",
    "        print('Guess score is ',p,' You do not watch that much! :P')\n",
    "    \n",
    "    \n",
    "    "
   ]
  },
  {
   "cell_type": "code",
   "execution_count": null,
   "metadata": {},
   "outputs": [],
   "source": []
  },
  {
   "cell_type": "code",
   "execution_count": null,
   "metadata": {},
   "outputs": [],
   "source": []
  }
 ],
 "metadata": {
  "kernelspec": {
   "display_name": "Python 3",
   "language": "python",
   "name": "python3"
  },
  "language_info": {
   "codemirror_mode": {
    "name": "ipython",
    "version": 3
   },
   "file_extension": ".py",
   "mimetype": "text/x-python",
   "name": "python",
   "nbconvert_exporter": "python",
   "pygments_lexer": "ipython3",
   "version": "3.7.6"
  }
 },
 "nbformat": 4,
 "nbformat_minor": 4
}
