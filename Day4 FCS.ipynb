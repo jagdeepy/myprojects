{
 "cells": [
  {
   "cell_type": "code",
   "execution_count": 1,
   "metadata": {},
   "outputs": [
    {
     "data": {
      "text/plain": [
       "range(25, 33)"
      ]
     },
     "execution_count": 1,
     "metadata": {},
     "output_type": "execute_result"
    }
   ],
   "source": [
    "range(25,33)"
   ]
  },
  {
   "cell_type": "code",
   "execution_count": 2,
   "metadata": {},
   "outputs": [
    {
     "data": {
      "text/plain": [
       "range(25, 33)"
      ]
     },
     "execution_count": 2,
     "metadata": {},
     "output_type": "execute_result"
    }
   ],
   "source": [
    "range(25,33,1)"
   ]
  },
  {
   "cell_type": "code",
   "execution_count": 5,
   "metadata": {},
   "outputs": [
    {
     "name": "stdout",
     "output_type": "stream",
     "text": [
      "0\n",
      "1\n",
      "2\n",
      "3\n",
      "4\n",
      "5\n",
      "6\n",
      "7\n",
      "8\n"
     ]
    }
   ],
   "source": [
    "for i in range(9):\n",
    "    print(i)"
   ]
  },
  {
   "cell_type": "code",
   "execution_count": 9,
   "metadata": {},
   "outputs": [
    {
     "name": "stdout",
     "output_type": "stream",
     "text": [
      "Sum 10\n"
     ]
    }
   ],
   "source": [
    "#display sum of numbers\n",
    "sum=0\n",
    "for i in range(5):\n",
    "    sum= sum + i\n",
    "print('Sum', sum)\n"
   ]
  },
  {
   "cell_type": "code",
   "execution_count": 10,
   "metadata": {},
   "outputs": [],
   "source": [
    "import math as m"
   ]
  },
  {
   "cell_type": "code",
   "execution_count": 12,
   "metadata": {},
   "outputs": [
    {
     "name": "stdout",
     "output_type": "stream",
     "text": [
      "2.0\n",
      "6\n"
     ]
    }
   ],
   "source": [
    "print(m.sqrt(4))\n",
    "print(m.ceil(5.1))"
   ]
  },
  {
   "cell_type": "code",
   "execution_count": 41,
   "metadata": {},
   "outputs": [
    {
     "name": "stdout",
     "output_type": "stream",
     "text": [
      "Enter random list1,2,3,4,5,6\n"
     ]
    },
    {
     "data": {
      "text/plain": [
       "list"
      ]
     },
     "execution_count": 41,
     "metadata": {},
     "output_type": "execute_result"
    }
   ],
   "source": [
    "#Day 4 FCS\n",
    "#Assignmnet No 4\n",
    "user_ip= list(input(\"Enter random list \"))\n",
    "type(user_ip)"
   ]
  },
  {
   "cell_type": "code",
   "execution_count": 68,
   "metadata": {},
   "outputs": [
    {
     "name": "stdout",
     "output_type": "stream",
     "text": [
      "User List First Sorted   [1, 1, 2, 3, 4, 5, 5, 6]\n",
      "User List Second Sorted  [1, 1, 2, 3, 5, 5, 6, 6]\n",
      "It's a Match\n"
     ]
    }
   ],
   "source": [
    "#user_ip = list(input(\"Enter random list \"))\n",
    "user_ip1=[1,5,6,4,1,2,3,5]\n",
    "user_ip2=[1,5,6,5,1,2,3,6]\n",
    "l1=[1,1,5]\n",
    "user_ip1.sort()\n",
    "user_ip2.sort()\n",
    "print(\"User List First Sorted  \",user_ip1)\n",
    "print(\"User List Second Sorted \",user_ip2)\n",
    "if(user_ip1[0] == l1[0] and user_ip1[1] == l1[1] and user_ip1[6] == l1[2]):\n",
    "    print(\"It's a Match\")\n",
    "else:\n",
    "    print(\"It's Gone\")"
   ]
  },
  {
   "cell_type": "code",
   "execution_count": 110,
   "metadata": {},
   "outputs": [
    {
     "name": "stdout",
     "output_type": "stream",
     "text": [
      "Selected list from the two listy :- 0\n",
      "Random User List :-  [1, 5, 6, 4, 1, 2, 3, 5]\n",
      "It's a Match\n"
     ]
    }
   ],
   "source": [
    "#WAP to identify [1,1,5] in the given list in the same order, if yes then print \"It's a Match\" & if no then Print \"It's Gone\"\n",
    "#Example\n",
    "#Listy =[1,5,6,4,1,2,3,5] --It's a Match\n",
    "#Listy =[1,5,6,5,1,2,3,6] --It's Gone\n",
    "import random\n",
    "x=random.randint(0,1)\n",
    "print(\"Selected list from the two listy :-\",x)\n",
    "if(x==0):\n",
    "    user_list = [1,5,6,4,1,2,3,5]\n",
    "    \n",
    "else:\n",
    "    user_list = [1,5,6,5,1,2,3,6]\n",
    "user_ip= user_list\n",
    "print(\"Random User List :- \",user_ip)\n",
    "\n",
    "identity_list =[1, 1, 5]\n",
    "\n",
    "if(user_ip[0] == identity_list[0] and user_ip[4] == identity_list[1] and user_ip[7] == identity_list[2]):\n",
    "    print(\"It's a Match\")\n",
    "else:\n",
    "    print(\"It's Gone\")\n"
   ]
  },
  {
   "cell_type": "code",
   "execution_count": null,
   "metadata": {},
   "outputs": [],
   "source": []
  },
  {
   "cell_type": "code",
   "execution_count": null,
   "metadata": {},
   "outputs": [],
   "source": []
  }
 ],
 "metadata": {
  "kernelspec": {
   "display_name": "Python 3",
   "language": "python",
   "name": "python3"
  },
  "language_info": {
   "codemirror_mode": {
    "name": "ipython",
    "version": 3
   },
   "file_extension": ".py",
   "mimetype": "text/x-python",
   "name": "python",
   "nbconvert_exporter": "python",
   "pygments_lexer": "ipython3",
   "version": "3.7.6"
  }
 },
 "nbformat": 4,
 "nbformat_minor": 4
}
